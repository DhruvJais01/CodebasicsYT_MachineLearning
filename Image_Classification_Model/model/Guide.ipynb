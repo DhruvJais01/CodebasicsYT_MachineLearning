{
 "cells": [
  {
   "cell_type": "markdown",
   "metadata": {},
   "source": [
    "# Documentation: \n",
    "<!-- create a link -->\n",
    "* [Face Detection using Haar Cascades](https://opencv2-python-tutorials.readthedocs.io/en/latest/py_tutorials/py_objdetect/py_face_detection/py_face_detection.html#face-detection)\n",
    "* [Documentation](https://opencv2-python-tutorials.readthedocs.io/en/latest/py_tutorials/py_tutorials.html)\n",
    "\n",
    "__Downloading the haarcascade classifier from opencv github__\n",
    "\n",
    "[link](https://github.com/opencv/opencv/tree/4.x/data/haarcascades)\n"
   ]
  },
  {
   "cell_type": "markdown",
   "metadata": {},
   "source": [
    "###  Now how do you detect face and eyes?"
   ]
  },
  {
   "cell_type": "markdown",
   "metadata": {
    "vscode": {
     "languageId": "plaintext"
    }
   },
   "source": [
    "\n",
    "```python\n",
    "img = cv2.imread('../images_dataset/lionel_messi/1211643746.jpg.0.jpg')\n",
    "gray = cv2.cvtColor(img, cv2.COLOR_BGR2GRAY)\n",
    "\n",
    "# initializing\n",
    "face_cascade = cv2.CascadeClassifier('../opencv/haarcascades/haarcascade_frontalface_default.xml')\n",
    "eyes_cascade = cv2.CascadeClassifier('../opencv/haarcascades/haarcascade_eye.xml')\n",
    "\n",
    "faces = face_cascade.detectMultiScale(gray, 1.3, 5)\n",
    "```"
   ]
  },
  {
   "cell_type": "markdown",
   "metadata": {},
   "source": [
    "```python\n",
    "# Drawing a rectangle around the face\n",
    "cv2.destroyAllWindows()\n",
    "for (x, y, w, h) in faces:\n",
    "    face_img = cv2.rectangle(img, (x, y), (x+w, y+h), (255, 0, 0), 2)\n",
    "    roi_gray = gray[y:y+h, x:x+w]\n",
    "    roi_color = face_img[y:y+h, x:x+w]\n",
    "    eyes = eyes_cascade.detectMultiScale(roi_gray)\n",
    "    for (ex, ey, ew, eh) in eyes:\n",
    "        cv2.rectangle(roi_color, (ex, ey), (ex+ew, ey+eh), (0, 255, 0), 2)\n",
    "\n",
    "plt.figure()\n",
    "plt.imshow(face_img, cmap='gray')\n",
    "plt.show()\n",
    "```"
   ]
  },
  {
   "cell_type": "markdown",
   "metadata": {},
   "source": [
    "### 1. detectMultiScale(gray, 1.3, 5)\n",
    "* 1.3: This is the scale factor. It controls the image scaling between each step in the detection process. A value of 1.3 means that at each iteration, the image size is reduced by 30% (or increased by approximately 1.3x) to allow the algorithm to detect faces of varying sizes. Smaller values (e.g., 1.1) provide finer detection but increase computation time, while larger values (e.g., 1.4 or 1.5) make the algorithm faster but can reduce accuracy for different face sizes.\n",
    "\n",
    "* 5: This is the minNeighbors parameter, which defines the minimum number of rectangles that need to be detected around a feature to consider it a face. A value of 5 makes the algorithm more selective and reduces false positives, meaning detected areas must be overlapped by multiple rectangles to be considered valid faces. Lowering this value makes detection more sensitive but can also increase false positives.\n",
    "\n",
    "### 2. y:y+h, x:x+w in roi_gray = gray[y:y+h, x:x+w]\n",
    "* y:y+h, x:x+w: These values define a Region of Interest (ROI) within the image to focus on face features specifically. x and y are the top-left corner coordinates of the detected face, while w and h are the width and height of the detected face region.\n",
    "\n",
    "    * roi_gray = gray[y:y+h, x:x+w] creates a grayscale sub-image of just the face area for eye detection.\n",
    "    * roi_color = img[y:y+h, x:x+w] creates a colored sub-image of the face for additional color-based processing (e.g., adding rectangles around eyes or overlaying effects).\n",
    "### 3. eyes = eye_cascade.detectMultiScale(roi_gray)\n",
    "After detecting a face, eye_cascade.detectMultiScale(roi_gray) runs on the ROI (face area) rather than the entire image, focusing only on the grayscale face region to detect eyes. This optimizes performance by searching only within the face region, increasing the likelihood of accurate eye detection and reducing computation time.\n",
    "\n",
    "Summary\n",
    "* 1.3 (scale factor) and 5 (minNeighbors) control the precision and speed of face detection.\n",
    "* y:y+h and x:x+w restrict eye detection to the face region, optimizing performance and accuracy for detecting smaller facial features like eyes."
   ]
  },
  {
   "cell_type": "markdown",
   "metadata": {},
   "source": []
  }
 ],
 "metadata": {
  "language_info": {
   "name": "python"
  }
 },
 "nbformat": 4,
 "nbformat_minor": 2
}
